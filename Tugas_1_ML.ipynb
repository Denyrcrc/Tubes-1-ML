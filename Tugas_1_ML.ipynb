{
  "nbformat": 4,
  "nbformat_minor": 0,
  "metadata": {
    "colab": {
      "name": "Tugas 1 ML.ipynb",
      "provenance": [],
      "collapsed_sections": [
        "lldN72IG6HFF",
        "xwaqfBf56XDM",
        "zI0dm3oYOR3v"
      ],
      "toc_visible": true
    },
    "kernelspec": {
      "name": "python3",
      "display_name": "Python 3"
    },
    "language_info": {
      "name": "python"
    }
  },
  "cells": [
    {
      "cell_type": "markdown",
      "metadata": {
        "id": "iMe3svva6Bj3"
      },
      "source": [
        "Tugas Besar Machine Learning tahap 1\n",
        "\n",
        "*Clustering*\n",
        "\n",
        "Deny Ahmad Sofyan\n",
        "\n",
        "IF 43 10"
      ]
    },
    {
      "cell_type": "markdown",
      "metadata": {
        "id": "lldN72IG6HFF"
      },
      "source": [
        "# LIBRARY\n",
        "\n",
        "\n",
        "> Menggunakan beberapa liblary penting agar proses Clustering dapat berjalan sesuai keinginan (tidak menggunakan library K-Means) \n",
        "\n"
      ]
    },
    {
      "cell_type": "code",
      "metadata": {
        "id": "b3BFP0WN6IKT"
      },
      "source": [
        "import pandas as pd\n",
        "import numpy as np\n",
        "import matplotlib.pyplot as plt\n",
        "import seaborn as sns\n",
        "import random\n",
        "from math import ceil\n",
        "import random as rd\n",
        "from copy import deepcopy \n",
        "from sklearn.cluster import KMeans\n",
        "from sklearn.preprocessing import MinMaxScaler , StandardScaler\n",
        "from sklearn.decomposition import PCA"
      ],
      "execution_count": null,
      "outputs": []
    },
    {
      "cell_type": "markdown",
      "metadata": {
        "id": "xwaqfBf56XDM"
      },
      "source": [
        "#IMPORT DATASET\n",
        "\n",
        "> Persiapan data sebagai bahan olahan proses Clustering dengan menggunakan dataset kendaraan_train bertipe CSV \n",
        "\n"
      ]
    },
    {
      "cell_type": "code",
      "metadata": {
        "id": "GlP3g-jt6cxO"
      },
      "source": [
        "url = 'https://raw.githubusercontent.com/Denyrcrc/Tubes-1-ML/main/kendaraan_train.csv'\n",
        "dataset_train = pd.read_csv(url)"
      ],
      "execution_count": null,
      "outputs": []
    },
    {
      "cell_type": "code",
      "metadata": {
        "colab": {
          "base_uri": "https://localhost:8080/"
        },
        "id": "tAzt7cFe9Sya",
        "outputId": "99561aa5-8715-4118-98a1-d9fe70e861fd"
      },
      "source": [
        "dataset_train"
      ],
      "execution_count": null,
      "outputs": [
        {
          "output_type": "execute_result",
          "data": {
            "text/html": [
              "<div>\n",
              "<style scoped>\n",
              "    .dataframe tbody tr th:only-of-type {\n",
              "        vertical-align: middle;\n",
              "    }\n",
              "\n",
              "    .dataframe tbody tr th {\n",
              "        vertical-align: top;\n",
              "    }\n",
              "\n",
              "    .dataframe thead th {\n",
              "        text-align: right;\n",
              "    }\n",
              "</style>\n",
              "<table border=\"1\" class=\"dataframe\">\n",
              "  <thead>\n",
              "    <tr style=\"text-align: right;\">\n",
              "      <th></th>\n",
              "      <th>id</th>\n",
              "      <th>Jenis_Kelamin</th>\n",
              "      <th>Umur</th>\n",
              "      <th>SIM</th>\n",
              "      <th>Kode_Daerah</th>\n",
              "      <th>Sudah_Asuransi</th>\n",
              "      <th>Umur_Kendaraan</th>\n",
              "      <th>Kendaraan_Rusak</th>\n",
              "      <th>Premi</th>\n",
              "      <th>Kanal_Penjualan</th>\n",
              "      <th>Lama_Berlangganan</th>\n",
              "      <th>Tertarik</th>\n",
              "    </tr>\n",
              "  </thead>\n",
              "  <tbody>\n",
              "    <tr>\n",
              "      <th>0</th>\n",
              "      <td>1</td>\n",
              "      <td>Wanita</td>\n",
              "      <td>30.0</td>\n",
              "      <td>1.0</td>\n",
              "      <td>33.0</td>\n",
              "      <td>1.0</td>\n",
              "      <td>&lt; 1 Tahun</td>\n",
              "      <td>Tidak</td>\n",
              "      <td>28029.0</td>\n",
              "      <td>152.0</td>\n",
              "      <td>97.0</td>\n",
              "      <td>0</td>\n",
              "    </tr>\n",
              "    <tr>\n",
              "      <th>1</th>\n",
              "      <td>2</td>\n",
              "      <td>Pria</td>\n",
              "      <td>48.0</td>\n",
              "      <td>1.0</td>\n",
              "      <td>39.0</td>\n",
              "      <td>0.0</td>\n",
              "      <td>&gt; 2 Tahun</td>\n",
              "      <td>Pernah</td>\n",
              "      <td>25800.0</td>\n",
              "      <td>29.0</td>\n",
              "      <td>158.0</td>\n",
              "      <td>0</td>\n",
              "    </tr>\n",
              "    <tr>\n",
              "      <th>2</th>\n",
              "      <td>3</td>\n",
              "      <td>NaN</td>\n",
              "      <td>21.0</td>\n",
              "      <td>1.0</td>\n",
              "      <td>46.0</td>\n",
              "      <td>1.0</td>\n",
              "      <td>&lt; 1 Tahun</td>\n",
              "      <td>Tidak</td>\n",
              "      <td>32733.0</td>\n",
              "      <td>160.0</td>\n",
              "      <td>119.0</td>\n",
              "      <td>0</td>\n",
              "    </tr>\n",
              "    <tr>\n",
              "      <th>3</th>\n",
              "      <td>4</td>\n",
              "      <td>Wanita</td>\n",
              "      <td>58.0</td>\n",
              "      <td>1.0</td>\n",
              "      <td>48.0</td>\n",
              "      <td>0.0</td>\n",
              "      <td>1-2 Tahun</td>\n",
              "      <td>Tidak</td>\n",
              "      <td>2630.0</td>\n",
              "      <td>124.0</td>\n",
              "      <td>63.0</td>\n",
              "      <td>0</td>\n",
              "    </tr>\n",
              "    <tr>\n",
              "      <th>4</th>\n",
              "      <td>5</td>\n",
              "      <td>Pria</td>\n",
              "      <td>50.0</td>\n",
              "      <td>1.0</td>\n",
              "      <td>35.0</td>\n",
              "      <td>0.0</td>\n",
              "      <td>&gt; 2 Tahun</td>\n",
              "      <td>NaN</td>\n",
              "      <td>34857.0</td>\n",
              "      <td>88.0</td>\n",
              "      <td>194.0</td>\n",
              "      <td>0</td>\n",
              "    </tr>\n",
              "    <tr>\n",
              "      <th>...</th>\n",
              "      <td>...</td>\n",
              "      <td>...</td>\n",
              "      <td>...</td>\n",
              "      <td>...</td>\n",
              "      <td>...</td>\n",
              "      <td>...</td>\n",
              "      <td>...</td>\n",
              "      <td>...</td>\n",
              "      <td>...</td>\n",
              "      <td>...</td>\n",
              "      <td>...</td>\n",
              "      <td>...</td>\n",
              "    </tr>\n",
              "    <tr>\n",
              "      <th>285826</th>\n",
              "      <td>285827</td>\n",
              "      <td>Wanita</td>\n",
              "      <td>23.0</td>\n",
              "      <td>1.0</td>\n",
              "      <td>4.0</td>\n",
              "      <td>1.0</td>\n",
              "      <td>&lt; 1 Tahun</td>\n",
              "      <td>Tidak</td>\n",
              "      <td>25988.0</td>\n",
              "      <td>152.0</td>\n",
              "      <td>217.0</td>\n",
              "      <td>0</td>\n",
              "    </tr>\n",
              "    <tr>\n",
              "      <th>285827</th>\n",
              "      <td>285828</td>\n",
              "      <td>Wanita</td>\n",
              "      <td>21.0</td>\n",
              "      <td>1.0</td>\n",
              "      <td>46.0</td>\n",
              "      <td>1.0</td>\n",
              "      <td>&lt; 1 Tahun</td>\n",
              "      <td>Tidak</td>\n",
              "      <td>44686.0</td>\n",
              "      <td>152.0</td>\n",
              "      <td>50.0</td>\n",
              "      <td>0</td>\n",
              "    </tr>\n",
              "    <tr>\n",
              "      <th>285828</th>\n",
              "      <td>285829</td>\n",
              "      <td>Wanita</td>\n",
              "      <td>23.0</td>\n",
              "      <td>1.0</td>\n",
              "      <td>50.0</td>\n",
              "      <td>1.0</td>\n",
              "      <td>&lt; 1 Tahun</td>\n",
              "      <td>Tidak</td>\n",
              "      <td>49751.0</td>\n",
              "      <td>152.0</td>\n",
              "      <td>226.0</td>\n",
              "      <td>0</td>\n",
              "    </tr>\n",
              "    <tr>\n",
              "      <th>285829</th>\n",
              "      <td>285830</td>\n",
              "      <td>Pria</td>\n",
              "      <td>68.0</td>\n",
              "      <td>1.0</td>\n",
              "      <td>7.0</td>\n",
              "      <td>1.0</td>\n",
              "      <td>1-2 Tahun</td>\n",
              "      <td>Tidak</td>\n",
              "      <td>30503.0</td>\n",
              "      <td>124.0</td>\n",
              "      <td>270.0</td>\n",
              "      <td>0</td>\n",
              "    </tr>\n",
              "    <tr>\n",
              "      <th>285830</th>\n",
              "      <td>285831</td>\n",
              "      <td>Pria</td>\n",
              "      <td>45.0</td>\n",
              "      <td>1.0</td>\n",
              "      <td>28.0</td>\n",
              "      <td>0.0</td>\n",
              "      <td>1-2 Tahun</td>\n",
              "      <td>Pernah</td>\n",
              "      <td>36480.0</td>\n",
              "      <td>26.0</td>\n",
              "      <td>44.0</td>\n",
              "      <td>0</td>\n",
              "    </tr>\n",
              "  </tbody>\n",
              "</table>\n",
              "<p>285831 rows × 12 columns</p>\n",
              "</div>"
            ],
            "text/plain": [
              "            id Jenis_Kelamin  ...  Lama_Berlangganan  Tertarik\n",
              "0            1        Wanita  ...               97.0         0\n",
              "1            2          Pria  ...              158.0         0\n",
              "2            3           NaN  ...              119.0         0\n",
              "3            4        Wanita  ...               63.0         0\n",
              "4            5          Pria  ...              194.0         0\n",
              "...        ...           ...  ...                ...       ...\n",
              "285826  285827        Wanita  ...              217.0         0\n",
              "285827  285828        Wanita  ...               50.0         0\n",
              "285828  285829        Wanita  ...              226.0         0\n",
              "285829  285830          Pria  ...              270.0         0\n",
              "285830  285831          Pria  ...               44.0         0\n",
              "\n",
              "[285831 rows x 12 columns]"
            ]
          },
          "metadata": {},
          "execution_count": 3
        }
      ]
    },
    {
      "cell_type": "markdown",
      "metadata": {
        "id": "106ywvyn9nck"
      },
      "source": [
        "#PREPROCESSING\n",
        "\n",
        "> Persiapan dataset untuk langkah selanjutnya, persiapan seperti menghapus kolom yang tidak penting mencari missing value (null) dan mengatasi missing value  \n",
        "\n"
      ]
    },
    {
      "cell_type": "markdown",
      "metadata": {
        "id": "zI0dm3oYOR3v"
      },
      "source": [
        "##Penggunaan kolom penting\n",
        "\n",
        "Menghapus kolom yang tidak penting terhadap proses Clustering. Disini kolom yang di hapus adalah:               \n",
        "\n",
        "\n",
        "- id, dikarenakan sama dengan row CSV\n",
        "- SIM dan Sudah_Asuransi, dikarenakan mempunyai value yang kurang variatif dan kurang berkorelasi\n",
        "- tertarik, dikarenakan kolom tersebut adalah hasil dari sebuah proses\n"
      ]
    },
    {
      "cell_type": "code",
      "metadata": {
        "id": "zCzHM9NFk9-w"
      },
      "source": [
        "dataset = dataset_train.drop(['id', 'SIM', 'Sudah_Asuransi','Tertarik'], axis=1)"
      ],
      "execution_count": null,
      "outputs": []
    },
    {
      "cell_type": "code",
      "metadata": {
        "colab": {
          "base_uri": "https://localhost:8080/"
        },
        "id": "_PnH9eX_RDXu",
        "outputId": "871203ea-9520-445a-e282-f03969952a84"
      },
      "source": [
        "dataset"
      ],
      "execution_count": null,
      "outputs": [
        {
          "output_type": "execute_result",
          "data": {
            "text/html": [
              "<div>\n",
              "<style scoped>\n",
              "    .dataframe tbody tr th:only-of-type {\n",
              "        vertical-align: middle;\n",
              "    }\n",
              "\n",
              "    .dataframe tbody tr th {\n",
              "        vertical-align: top;\n",
              "    }\n",
              "\n",
              "    .dataframe thead th {\n",
              "        text-align: right;\n",
              "    }\n",
              "</style>\n",
              "<table border=\"1\" class=\"dataframe\">\n",
              "  <thead>\n",
              "    <tr style=\"text-align: right;\">\n",
              "      <th></th>\n",
              "      <th>Jenis_Kelamin</th>\n",
              "      <th>Umur</th>\n",
              "      <th>Kode_Daerah</th>\n",
              "      <th>Umur_Kendaraan</th>\n",
              "      <th>Kendaraan_Rusak</th>\n",
              "      <th>Premi</th>\n",
              "      <th>Kanal_Penjualan</th>\n",
              "      <th>Lama_Berlangganan</th>\n",
              "    </tr>\n",
              "  </thead>\n",
              "  <tbody>\n",
              "    <tr>\n",
              "      <th>0</th>\n",
              "      <td>Wanita</td>\n",
              "      <td>30.0</td>\n",
              "      <td>33.0</td>\n",
              "      <td>&lt; 1 Tahun</td>\n",
              "      <td>Tidak</td>\n",
              "      <td>28029.0</td>\n",
              "      <td>152.0</td>\n",
              "      <td>97.0</td>\n",
              "    </tr>\n",
              "    <tr>\n",
              "      <th>1</th>\n",
              "      <td>Pria</td>\n",
              "      <td>48.0</td>\n",
              "      <td>39.0</td>\n",
              "      <td>&gt; 2 Tahun</td>\n",
              "      <td>Pernah</td>\n",
              "      <td>25800.0</td>\n",
              "      <td>29.0</td>\n",
              "      <td>158.0</td>\n",
              "    </tr>\n",
              "    <tr>\n",
              "      <th>2</th>\n",
              "      <td>NaN</td>\n",
              "      <td>21.0</td>\n",
              "      <td>46.0</td>\n",
              "      <td>&lt; 1 Tahun</td>\n",
              "      <td>Tidak</td>\n",
              "      <td>32733.0</td>\n",
              "      <td>160.0</td>\n",
              "      <td>119.0</td>\n",
              "    </tr>\n",
              "    <tr>\n",
              "      <th>3</th>\n",
              "      <td>Wanita</td>\n",
              "      <td>58.0</td>\n",
              "      <td>48.0</td>\n",
              "      <td>1-2 Tahun</td>\n",
              "      <td>Tidak</td>\n",
              "      <td>2630.0</td>\n",
              "      <td>124.0</td>\n",
              "      <td>63.0</td>\n",
              "    </tr>\n",
              "    <tr>\n",
              "      <th>4</th>\n",
              "      <td>Pria</td>\n",
              "      <td>50.0</td>\n",
              "      <td>35.0</td>\n",
              "      <td>&gt; 2 Tahun</td>\n",
              "      <td>NaN</td>\n",
              "      <td>34857.0</td>\n",
              "      <td>88.0</td>\n",
              "      <td>194.0</td>\n",
              "    </tr>\n",
              "    <tr>\n",
              "      <th>...</th>\n",
              "      <td>...</td>\n",
              "      <td>...</td>\n",
              "      <td>...</td>\n",
              "      <td>...</td>\n",
              "      <td>...</td>\n",
              "      <td>...</td>\n",
              "      <td>...</td>\n",
              "      <td>...</td>\n",
              "    </tr>\n",
              "    <tr>\n",
              "      <th>285826</th>\n",
              "      <td>Wanita</td>\n",
              "      <td>23.0</td>\n",
              "      <td>4.0</td>\n",
              "      <td>&lt; 1 Tahun</td>\n",
              "      <td>Tidak</td>\n",
              "      <td>25988.0</td>\n",
              "      <td>152.0</td>\n",
              "      <td>217.0</td>\n",
              "    </tr>\n",
              "    <tr>\n",
              "      <th>285827</th>\n",
              "      <td>Wanita</td>\n",
              "      <td>21.0</td>\n",
              "      <td>46.0</td>\n",
              "      <td>&lt; 1 Tahun</td>\n",
              "      <td>Tidak</td>\n",
              "      <td>44686.0</td>\n",
              "      <td>152.0</td>\n",
              "      <td>50.0</td>\n",
              "    </tr>\n",
              "    <tr>\n",
              "      <th>285828</th>\n",
              "      <td>Wanita</td>\n",
              "      <td>23.0</td>\n",
              "      <td>50.0</td>\n",
              "      <td>&lt; 1 Tahun</td>\n",
              "      <td>Tidak</td>\n",
              "      <td>49751.0</td>\n",
              "      <td>152.0</td>\n",
              "      <td>226.0</td>\n",
              "    </tr>\n",
              "    <tr>\n",
              "      <th>285829</th>\n",
              "      <td>Pria</td>\n",
              "      <td>68.0</td>\n",
              "      <td>7.0</td>\n",
              "      <td>1-2 Tahun</td>\n",
              "      <td>Tidak</td>\n",
              "      <td>30503.0</td>\n",
              "      <td>124.0</td>\n",
              "      <td>270.0</td>\n",
              "    </tr>\n",
              "    <tr>\n",
              "      <th>285830</th>\n",
              "      <td>Pria</td>\n",
              "      <td>45.0</td>\n",
              "      <td>28.0</td>\n",
              "      <td>1-2 Tahun</td>\n",
              "      <td>Pernah</td>\n",
              "      <td>36480.0</td>\n",
              "      <td>26.0</td>\n",
              "      <td>44.0</td>\n",
              "    </tr>\n",
              "  </tbody>\n",
              "</table>\n",
              "<p>285831 rows × 8 columns</p>\n",
              "</div>"
            ],
            "text/plain": [
              "       Jenis_Kelamin  Umur  ...  Kanal_Penjualan Lama_Berlangganan\n",
              "0             Wanita  30.0  ...            152.0              97.0\n",
              "1               Pria  48.0  ...             29.0             158.0\n",
              "2                NaN  21.0  ...            160.0             119.0\n",
              "3             Wanita  58.0  ...            124.0              63.0\n",
              "4               Pria  50.0  ...             88.0             194.0\n",
              "...              ...   ...  ...              ...               ...\n",
              "285826        Wanita  23.0  ...            152.0             217.0\n",
              "285827        Wanita  21.0  ...            152.0              50.0\n",
              "285828        Wanita  23.0  ...            152.0             226.0\n",
              "285829          Pria  68.0  ...            124.0             270.0\n",
              "285830          Pria  45.0  ...             26.0              44.0\n",
              "\n",
              "[285831 rows x 8 columns]"
            ]
          },
          "metadata": {},
          "execution_count": 5
        }
      ]
    },
    {
      "cell_type": "markdown",
      "metadata": {
        "id": "LDsmiMQGRQM-"
      },
      "source": [
        "##Cek missing value\n",
        "\n",
        "cek dan menampilkan value null dari semua kolom pada file CSV"
      ]
    },
    {
      "cell_type": "code",
      "metadata": {
        "colab": {
          "base_uri": "https://localhost:8080/"
        },
        "id": "J51lBhl7TqGN",
        "outputId": "22fa9925-fae5-41bc-b1c6-880d3b8b1a11"
      },
      "source": [
        "dataset.isna().sum()"
      ],
      "execution_count": null,
      "outputs": [
        {
          "output_type": "execute_result",
          "data": {
            "text/plain": [
              "Jenis_Kelamin        14440\n",
              "Umur                 14214\n",
              "Kode_Daerah          14306\n",
              "Umur_Kendaraan       14275\n",
              "Kendaraan_Rusak      14188\n",
              "Premi                14569\n",
              "Kanal_Penjualan      14299\n",
              "Lama_Berlangganan    13992\n",
              "dtype: int64"
            ]
          },
          "metadata": {},
          "execution_count": 6
        }
      ]
    },
    {
      "cell_type": "markdown",
      "metadata": {
        "id": "Zz9rYl19yXxb"
      },
      "source": [
        "##Handling mising value\n",
        "\n",
        "men drop atau mengahapus row yang berisikan null pada row tersebut sehingga tidak ada data noise saat tahap selanjutnya"
      ]
    },
    {
      "cell_type": "code",
      "metadata": {
        "id": "iUrOvHsEyWWr"
      },
      "source": [
        "dataset = dataset.dropna()"
      ],
      "execution_count": null,
      "outputs": []
    },
    {
      "cell_type": "code",
      "metadata": {
        "colab": {
          "base_uri": "https://localhost:8080/"
        },
        "id": "pTT28zQzT8XX",
        "outputId": "abee1158-d5dc-4919-888e-ecbefc972d24"
      },
      "source": [
        "dataset.isna().sum()"
      ],
      "execution_count": null,
      "outputs": [
        {
          "output_type": "execute_result",
          "data": {
            "text/plain": [
              "Jenis_Kelamin        0\n",
              "Umur                 0\n",
              "Kode_Daerah          0\n",
              "Umur_Kendaraan       0\n",
              "Kendaraan_Rusak      0\n",
              "Premi                0\n",
              "Kanal_Penjualan      0\n",
              "Lama_Berlangganan    0\n",
              "dtype: int64"
            ]
          },
          "metadata": {},
          "execution_count": 8
        }
      ]
    },
    {
      "cell_type": "markdown",
      "metadata": {
        "id": "ksNI8h8sUy0o"
      },
      "source": [
        "##Handling value non-numerical\n",
        "\n",
        "menghapus value dari kolom yang berisi objek agar tidak adanya noise dan juga mengatasi kurang nya variasi data karena berisi value 0 sampai 1/2 membuat korelasi kurang maksimal dalam menentukan scalling"
      ]
    },
    {
      "cell_type": "code",
      "metadata": {
        "colab": {
          "base_uri": "https://localhost:8080/"
        },
        "id": "jFlw8IS7JTWm",
        "outputId": "5a244ab5-3cf6-43da-bd7e-033a3a2c2184"
      },
      "source": [
        "filteredColumns = dataset.dtypes[dataset.dtypes == np.object]\n",
        "listOfColumnNames = list(filteredColumns.index)\n",
        "print(listOfColumnNames)"
      ],
      "execution_count": null,
      "outputs": [
        {
          "output_type": "stream",
          "name": "stdout",
          "text": [
            "['Jenis_Kelamin', 'Umur_Kendaraan', 'Kendaraan_Rusak']\n"
          ]
        }
      ]
    },
    {
      "cell_type": "code",
      "metadata": {
        "colab": {
          "base_uri": "https://localhost:8080/"
        },
        "id": "sSqcEL-uU-VI",
        "outputId": "a06a20cd-e5f8-4cb2-dd3c-4fd064fe705f"
      },
      "source": [
        "for column in dataset:\n",
        "  if dataset.dtypes[column] == np.object:\n",
        "    newdataset = dataset.drop(listOfColumnNames, axis=1)\n",
        "    print('Data type of column', column, 'is dropped')"
      ],
      "execution_count": null,
      "outputs": [
        {
          "output_type": "stream",
          "name": "stdout",
          "text": [
            "Data type of column Jenis_Kelamin is dropped\n",
            "Data type of column Umur_Kendaraan is dropped\n",
            "Data type of column Kendaraan_Rusak is dropped\n"
          ]
        }
      ]
    },
    {
      "cell_type": "code",
      "metadata": {
        "colab": {
          "base_uri": "https://localhost:8080/",
          "height": 408
        },
        "id": "YRJr3OfgVpQA",
        "outputId": "c52d979d-9ee6-4d76-e7d6-b8ce6e7ce517"
      },
      "source": [
        "newdataset"
      ],
      "execution_count": null,
      "outputs": [
        {
          "output_type": "execute_result",
          "data": {
            "text/html": [
              "<div>\n",
              "<style scoped>\n",
              "    .dataframe tbody tr th:only-of-type {\n",
              "        vertical-align: middle;\n",
              "    }\n",
              "\n",
              "    .dataframe tbody tr th {\n",
              "        vertical-align: top;\n",
              "    }\n",
              "\n",
              "    .dataframe thead th {\n",
              "        text-align: right;\n",
              "    }\n",
              "</style>\n",
              "<table border=\"1\" class=\"dataframe\">\n",
              "  <thead>\n",
              "    <tr style=\"text-align: right;\">\n",
              "      <th></th>\n",
              "      <th>Umur</th>\n",
              "      <th>Kode_Daerah</th>\n",
              "      <th>Premi</th>\n",
              "      <th>Kanal_Penjualan</th>\n",
              "      <th>Lama_Berlangganan</th>\n",
              "    </tr>\n",
              "  </thead>\n",
              "  <tbody>\n",
              "    <tr>\n",
              "      <th>0</th>\n",
              "      <td>30.0</td>\n",
              "      <td>33.0</td>\n",
              "      <td>28029.0</td>\n",
              "      <td>152.0</td>\n",
              "      <td>97.0</td>\n",
              "    </tr>\n",
              "    <tr>\n",
              "      <th>1</th>\n",
              "      <td>48.0</td>\n",
              "      <td>39.0</td>\n",
              "      <td>25800.0</td>\n",
              "      <td>29.0</td>\n",
              "      <td>158.0</td>\n",
              "    </tr>\n",
              "    <tr>\n",
              "      <th>3</th>\n",
              "      <td>58.0</td>\n",
              "      <td>48.0</td>\n",
              "      <td>2630.0</td>\n",
              "      <td>124.0</td>\n",
              "      <td>63.0</td>\n",
              "    </tr>\n",
              "    <tr>\n",
              "      <th>5</th>\n",
              "      <td>21.0</td>\n",
              "      <td>35.0</td>\n",
              "      <td>22735.0</td>\n",
              "      <td>152.0</td>\n",
              "      <td>171.0</td>\n",
              "    </tr>\n",
              "    <tr>\n",
              "      <th>7</th>\n",
              "      <td>23.0</td>\n",
              "      <td>28.0</td>\n",
              "      <td>26869.0</td>\n",
              "      <td>152.0</td>\n",
              "      <td>222.0</td>\n",
              "    </tr>\n",
              "    <tr>\n",
              "      <th>...</th>\n",
              "      <td>...</td>\n",
              "      <td>...</td>\n",
              "      <td>...</td>\n",
              "      <td>...</td>\n",
              "      <td>...</td>\n",
              "    </tr>\n",
              "    <tr>\n",
              "      <th>285826</th>\n",
              "      <td>23.0</td>\n",
              "      <td>4.0</td>\n",
              "      <td>25988.0</td>\n",
              "      <td>152.0</td>\n",
              "      <td>217.0</td>\n",
              "    </tr>\n",
              "    <tr>\n",
              "      <th>285827</th>\n",
              "      <td>21.0</td>\n",
              "      <td>46.0</td>\n",
              "      <td>44686.0</td>\n",
              "      <td>152.0</td>\n",
              "      <td>50.0</td>\n",
              "    </tr>\n",
              "    <tr>\n",
              "      <th>285828</th>\n",
              "      <td>23.0</td>\n",
              "      <td>50.0</td>\n",
              "      <td>49751.0</td>\n",
              "      <td>152.0</td>\n",
              "      <td>226.0</td>\n",
              "    </tr>\n",
              "    <tr>\n",
              "      <th>285829</th>\n",
              "      <td>68.0</td>\n",
              "      <td>7.0</td>\n",
              "      <td>30503.0</td>\n",
              "      <td>124.0</td>\n",
              "      <td>270.0</td>\n",
              "    </tr>\n",
              "    <tr>\n",
              "      <th>285830</th>\n",
              "      <td>45.0</td>\n",
              "      <td>28.0</td>\n",
              "      <td>36480.0</td>\n",
              "      <td>26.0</td>\n",
              "      <td>44.0</td>\n",
              "    </tr>\n",
              "  </tbody>\n",
              "</table>\n",
              "<p>189699 rows × 5 columns</p>\n",
              "</div>"
            ],
            "text/plain": [
              "        Umur  Kode_Daerah    Premi  Kanal_Penjualan  Lama_Berlangganan\n",
              "0       30.0         33.0  28029.0            152.0               97.0\n",
              "1       48.0         39.0  25800.0             29.0              158.0\n",
              "3       58.0         48.0   2630.0            124.0               63.0\n",
              "5       21.0         35.0  22735.0            152.0              171.0\n",
              "7       23.0         28.0  26869.0            152.0              222.0\n",
              "...      ...          ...      ...              ...                ...\n",
              "285826  23.0          4.0  25988.0            152.0              217.0\n",
              "285827  21.0         46.0  44686.0            152.0               50.0\n",
              "285828  23.0         50.0  49751.0            152.0              226.0\n",
              "285829  68.0          7.0  30503.0            124.0              270.0\n",
              "285830  45.0         28.0  36480.0             26.0               44.0\n",
              "\n",
              "[189699 rows x 5 columns]"
            ]
          },
          "metadata": {},
          "execution_count": 11
        }
      ]
    },
    {
      "cell_type": "code",
      "metadata": {
        "colab": {
          "base_uri": "https://localhost:8080/"
        },
        "id": "PAORgCgkVX6I",
        "outputId": "53519f5b-74b3-4e0c-991c-46cced1a6355"
      },
      "source": [
        "newdataset.info()"
      ],
      "execution_count": null,
      "outputs": [
        {
          "output_type": "stream",
          "name": "stdout",
          "text": [
            "<class 'pandas.core.frame.DataFrame'>\n",
            "Int64Index: 189699 entries, 0 to 285830\n",
            "Data columns (total 5 columns):\n",
            " #   Column             Non-Null Count   Dtype  \n",
            "---  ------             --------------   -----  \n",
            " 0   Umur               189699 non-null  float64\n",
            " 1   Kode_Daerah        189699 non-null  float64\n",
            " 2   Premi              189699 non-null  float64\n",
            " 3   Kanal_Penjualan    189699 non-null  float64\n",
            " 4   Lama_Berlangganan  189699 non-null  float64\n",
            "dtypes: float64(5)\n",
            "memory usage: 8.7 MB\n"
          ]
        }
      ]
    },
    {
      "cell_type": "markdown",
      "metadata": {
        "id": "u88j72F2V5t3"
      },
      "source": [
        "##Check outliner\n",
        "\n",
        "men check apakah ada data yang tidak wajar (tidak umum)"
      ]
    },
    {
      "cell_type": "code",
      "metadata": {
        "colab": {
          "base_uri": "https://localhost:8080/",
          "height": 337
        },
        "id": "UZfFKfKLWaBw",
        "outputId": "3f52f6cd-9d72-44b5-ab32-beb8d37dfb01"
      },
      "source": [
        "newdataset.boxplot(figsize=[10,5])"
      ],
      "execution_count": null,
      "outputs": [
        {
          "output_type": "execute_result",
          "data": {
            "text/plain": [
              "<matplotlib.axes._subplots.AxesSubplot at 0x7f85d7164350>"
            ]
          },
          "metadata": {},
          "execution_count": 13
        },
        {
          "output_type": "display_data",
          "data": {
            "image/png": "[encoded data removed]",
            "text/plain": [
              "<Figure size 720x360 with 1 Axes>"
            ]
          },
          "metadata": {
            "needs_background": "light"
          }
        }
      ]
    },
    {
      "cell_type": "code",
      "metadata": {
        "colab": {
          "base_uri": "https://localhost:8080/",
          "height": 265
        },
        "id": "3wprK_WdYMYH",
        "outputId": "d4220ffb-d1a6-46bf-f5dc-d08e0fe9a211"
      },
      "source": [
        "boxplot = newdataset.boxplot(column=['Premi'])"
      ],
      "execution_count": null,
      "outputs": [
        {
          "output_type": "display_data",
          "data": {
            "image/png": "[encoded data removed]",
            "text/plain": [
              "<Figure size 432x288 with 1 Axes>"
            ]
          },
          "metadata": {
            "needs_background": "light"
          }
        }
      ]
    },
    {
      "cell_type": "markdown",
      "metadata": {
        "id": "zwYgyFUpXrzP"
      },
      "source": [
        "##handling outliner\n",
        "\n",
        "mengatasi data yang tidak wajar dengan menggunakan metode interquartile data"
      ]
    },
    {
      "cell_type": "code",
      "metadata": {
        "colab": {
          "base_uri": "https://localhost:8080/"
        },
        "id": "sCpTlytnXy7P",
        "outputId": "abdebc7f-632a-43ba-94a1-360c33dbc865"
      },
      "source": [
        "def interquartile(newdataset,x):\n",
        "  q1 = (newdataset[x]).quantile(0.25)\n",
        "  q3 = (newdataset[x]).quantile(0.75) \n",
        "  iqr = q3 - q1 #range q3 - q1\n",
        "  maximum = q3 + (1.5 *iqr)\n",
        "  minimum = q1 - (1.5 *iqr)\n",
        "  return maximum,minimum\n",
        "  \n",
        "max,min = interquartile(newdataset,'Premi')\n",
        "print('max: ',max,' | min:',min)"
      ],
      "execution_count": null,
      "outputs": [
        {
          "output_type": "stream",
          "name": "stdout",
          "text": [
            "max:  61777.5  | min: 1925.5\n"
          ]
        }
      ]
    },
    {
      "cell_type": "code",
      "metadata": {
        "colab": {
          "base_uri": "https://localhost:8080/",
          "height": 638
        },
        "id": "tshYjvUXtmF2",
        "outputId": "904d8ae3-efe0-413e-8434-3d318c9440f0"
      },
      "source": [
        "def HandlingOutliner(newdata,x,max,min):\n",
        "  above = (newdataset[x] > max)\n",
        "  below = (newdataset[x] < min)\n",
        "  print('above: ',above,' | below: ',below)\n",
        "  newdataset[x] = newdataset[x].mask(above, max,axis=0)\n",
        "  newdataset[x] = newdataset[x].mask(below, min,axis=0)\n",
        "  return newdataset\n",
        "  \n",
        "max,min = interquartile(newdataset,'Premi')\n",
        "newdataset = HandlingOutliner(newdataset,'Premi',max,min)\n",
        "boxplot = newdataset.boxplot(column=['Premi'])"
      ],
      "execution_count": null,
      "outputs": [
        {
          "output_type": "stream",
          "name": "stdout",
          "text": [
            "above:  0         False\n",
            "1         False\n",
            "3         False\n",
            "5         False\n",
            "7         False\n",
            "          ...  \n",
            "285826    False\n",
            "285827    False\n",
            "285828    False\n",
            "285829    False\n",
            "285830    False\n",
            "Name: Premi, Length: 189699, dtype: bool  | below:  0         False\n",
            "1         False\n",
            "3         False\n",
            "5         False\n",
            "7         False\n",
            "          ...  \n",
            "285826    False\n",
            "285827    False\n",
            "285828    False\n",
            "285829    False\n",
            "285830    False\n",
            "Name: Premi, Length: 189699, dtype: bool\n"
          ]
        },
        {
          "output_type": "display_data",
          "data": {
            "image/png": "[encoded data removed]",
            "text/plain": [
              "<Figure size 432x288 with 1 Axes>"
            ]
          },
          "metadata": {
            "needs_background": "light"
          }
        }
      ]
    },
    {
      "cell_type": "code",
      "metadata": {
        "colab": {
          "base_uri": "https://localhost:8080/",
          "height": 337
        },
        "id": "10XxJp06ahFP",
        "outputId": "49e0e640-c25b-4a62-de43-3fc06a9cf254"
      },
      "source": [
        "newdataset.boxplot(figsize=[10,5])"
      ],
      "execution_count": null,
      "outputs": [
        {
          "output_type": "execute_result",
          "data": {
            "text/plain": [
              "<matplotlib.axes._subplots.AxesSubplot at 0x7f85d6ad0890>"
            ]
          },
          "metadata": {},
          "execution_count": 17
        },
        {
          "output_type": "display_data",
          "data": {
            "image/png": "[encoded data removed]",
            "text/plain": [
              "<Figure size 720x360 with 1 Axes>"
            ]
          },
          "metadata": {
            "needs_background": "light"
          }
        }
      ]
    },
    {
      "cell_type": "markdown",
      "metadata": {
        "id": "qbcdI_oYw7bS"
      },
      "source": [
        "##Scalling\n",
        "\n",
        "Scaling dengan menggunakan StandardScaler, agar persebaran data setiap kolomnya tidak terlalu jauh dan angkanya masih bervariasi "
      ]
    },
    {
      "cell_type": "code",
      "metadata": {
        "colab": {
          "base_uri": "https://localhost:8080/",
          "height": 408
        },
        "id": "WcUCuoJF0VJg",
        "outputId": "e33cdcf3-ab64-4cb8-ed4f-8eb25a3c4ce6"
      },
      "source": [
        "scale = StandardScaler()\n",
        "scale.fit(newdataset)\n",
        "temp =scale.transform(newdataset)\n",
        "newdatasetnew = pd.DataFrame(temp, index=newdataset.index, columns=newdataset.columns)\n",
        "newdatasetnew\n"
      ],
      "execution_count": null,
      "outputs": [
        {
          "output_type": "execute_result",
          "data": {
            "text/html": [
              "<div>\n",
              "<style scoped>\n",
              "    .dataframe tbody tr th:only-of-type {\n",
              "        vertical-align: middle;\n",
              "    }\n",
              "\n",
              "    .dataframe tbody tr th {\n",
              "        vertical-align: top;\n",
              "    }\n",
              "\n",
              "    .dataframe thead th {\n",
              "        text-align: right;\n",
              "    }\n",
              "</style>\n",
              "<table border=\"1\" class=\"dataframe\">\n",
              "  <thead>\n",
              "    <tr style=\"text-align: right;\">\n",
              "      <th></th>\n",
              "      <th>Umur</th>\n",
              "      <th>Kode_Daerah</th>\n",
              "      <th>Premi</th>\n",
              "      <th>Kanal_Penjualan</th>\n",
              "      <th>Lama_Berlangganan</th>\n",
              "    </tr>\n",
              "  </thead>\n",
              "  <tbody>\n",
              "    <tr>\n",
              "      <th>0</th>\n",
              "      <td>-0.567639</td>\n",
              "      <td>0.495812</td>\n",
              "      <td>-0.134144</td>\n",
              "      <td>0.735019</td>\n",
              "      <td>-0.682865</td>\n",
              "    </tr>\n",
              "    <tr>\n",
              "      <th>1</th>\n",
              "      <td>0.591373</td>\n",
              "      <td>0.948087</td>\n",
              "      <td>-0.278290</td>\n",
              "      <td>-1.537184</td>\n",
              "      <td>0.044955</td>\n",
              "    </tr>\n",
              "    <tr>\n",
              "      <th>3</th>\n",
              "      <td>1.235269</td>\n",
              "      <td>1.626500</td>\n",
              "      <td>-1.776665</td>\n",
              "      <td>0.217770</td>\n",
              "      <td>-1.088534</td>\n",
              "    </tr>\n",
              "    <tr>\n",
              "      <th>5</th>\n",
              "      <td>-1.147145</td>\n",
              "      <td>0.646570</td>\n",
              "      <td>-0.476500</td>\n",
              "      <td>0.735019</td>\n",
              "      <td>0.200064</td>\n",
              "    </tr>\n",
              "    <tr>\n",
              "      <th>7</th>\n",
              "      <td>-1.018366</td>\n",
              "      <td>0.118916</td>\n",
              "      <td>-0.209159</td>\n",
              "      <td>0.735019</td>\n",
              "      <td>0.808569</td>\n",
              "    </tr>\n",
              "    <tr>\n",
              "      <th>...</th>\n",
              "      <td>...</td>\n",
              "      <td>...</td>\n",
              "      <td>...</td>\n",
              "      <td>...</td>\n",
              "      <td>...</td>\n",
              "    </tr>\n",
              "    <tr>\n",
              "      <th>285826</th>\n",
              "      <td>-1.018366</td>\n",
              "      <td>-1.690185</td>\n",
              "      <td>-0.266133</td>\n",
              "      <td>0.735019</td>\n",
              "      <td>0.748911</td>\n",
              "    </tr>\n",
              "    <tr>\n",
              "      <th>285827</th>\n",
              "      <td>-1.147145</td>\n",
              "      <td>1.475742</td>\n",
              "      <td>0.943044</td>\n",
              "      <td>0.735019</td>\n",
              "      <td>-1.243643</td>\n",
              "    </tr>\n",
              "    <tr>\n",
              "      <th>285828</th>\n",
              "      <td>-1.018366</td>\n",
              "      <td>1.777259</td>\n",
              "      <td>1.270591</td>\n",
              "      <td>0.735019</td>\n",
              "      <td>0.856294</td>\n",
              "    </tr>\n",
              "    <tr>\n",
              "      <th>285829</th>\n",
              "      <td>1.879164</td>\n",
              "      <td>-1.464048</td>\n",
              "      <td>0.025847</td>\n",
              "      <td>0.217770</td>\n",
              "      <td>1.381279</td>\n",
              "    </tr>\n",
              "    <tr>\n",
              "      <th>285830</th>\n",
              "      <td>0.398204</td>\n",
              "      <td>0.118916</td>\n",
              "      <td>0.412372</td>\n",
              "      <td>-1.592604</td>\n",
              "      <td>-1.315232</td>\n",
              "    </tr>\n",
              "  </tbody>\n",
              "</table>\n",
              "<p>189699 rows × 5 columns</p>\n",
              "</div>"
            ],
            "text/plain": [
              "            Umur  Kode_Daerah     Premi  Kanal_Penjualan  Lama_Berlangganan\n",
              "0      -0.567639     0.495812 -0.134144         0.735019          -0.682865\n",
              "1       0.591373     0.948087 -0.278290        -1.537184           0.044955\n",
              "3       1.235269     1.626500 -1.776665         0.217770          -1.088534\n",
              "5      -1.147145     0.646570 -0.476500         0.735019           0.200064\n",
              "7      -1.018366     0.118916 -0.209159         0.735019           0.808569\n",
              "...          ...          ...       ...              ...                ...\n",
              "285826 -1.018366    -1.690185 -0.266133         0.735019           0.748911\n",
              "285827 -1.147145     1.475742  0.943044         0.735019          -1.243643\n",
              "285828 -1.018366     1.777259  1.270591         0.735019           0.856294\n",
              "285829  1.879164    -1.464048  0.025847         0.217770           1.381279\n",
              "285830  0.398204     0.118916  0.412372        -1.592604          -1.315232\n",
              "\n",
              "[189699 rows x 5 columns]"
            ]
          },
          "metadata": {},
          "execution_count": 18
        }
      ]
    },
    {
      "cell_type": "markdown",
      "metadata": {
        "id": "_LAe2nl60ps4"
      },
      "source": [
        "##Splitting\n",
        "\n",
        "menggunakan PCA untuk mereduksi data menjadi 2 kolom untuk selanjutnya digunakan dalam clustering"
      ]
    },
    {
      "cell_type": "code",
      "metadata": {
        "id": "UECY8tDsw6hb"
      },
      "source": [
        "temp = MinMaxScaler().fit_transform(newdatasetnew)\n",
        "newdatasetnew1 = pd.DataFrame(temp, index=newdatasetnew.index, columns=newdatasetnew.columns)"
      ],
      "execution_count": null,
      "outputs": []
    },
    {
      "cell_type": "code",
      "metadata": {
        "colab": {
          "base_uri": "https://localhost:8080/",
          "height": 408
        },
        "id": "bbj8X1irx6dR",
        "outputId": "1a720d6e-e710-40c1-fec8-5fac9e9ab2ff"
      },
      "source": [
        "pca = PCA(n_components=2)\n",
        "datasetbaru = pca.fit_transform(newdatasetnew1)\n",
        "datasetbaru = pd.DataFrame(data = datasetbaru, columns = ['x', 'y'])\n",
        "datasetbaru"
      ],
      "execution_count": null,
      "outputs": [
        {
          "output_type": "execute_result",
          "data": {
            "text/html": [
              "<div>\n",
              "<style scoped>\n",
              "    .dataframe tbody tr th:only-of-type {\n",
              "        vertical-align: middle;\n",
              "    }\n",
              "\n",
              "    .dataframe tbody tr th {\n",
              "        vertical-align: top;\n",
              "    }\n",
              "\n",
              "    .dataframe thead th {\n",
              "        text-align: right;\n",
              "    }\n",
              "</style>\n",
              "<table border=\"1\" class=\"dataframe\">\n",
              "  <thead>\n",
              "    <tr style=\"text-align: right;\">\n",
              "      <th></th>\n",
              "      <th>x</th>\n",
              "      <th>y</th>\n",
              "    </tr>\n",
              "  </thead>\n",
              "  <tbody>\n",
              "    <tr>\n",
              "      <th>0</th>\n",
              "      <td>-0.274482</td>\n",
              "      <td>-0.200329</td>\n",
              "    </tr>\n",
              "    <tr>\n",
              "      <th>1</th>\n",
              "      <td>0.513402</td>\n",
              "      <td>0.010798</td>\n",
              "    </tr>\n",
              "    <tr>\n",
              "      <th>2</th>\n",
              "      <td>0.037245</td>\n",
              "      <td>-0.320901</td>\n",
              "    </tr>\n",
              "    <tr>\n",
              "      <th>3</th>\n",
              "      <td>-0.353133</td>\n",
              "      <td>0.055236</td>\n",
              "    </tr>\n",
              "    <tr>\n",
              "      <th>4</th>\n",
              "      <td>-0.335913</td>\n",
              "      <td>0.233518</td>\n",
              "    </tr>\n",
              "    <tr>\n",
              "      <th>...</th>\n",
              "      <td>...</td>\n",
              "      <td>...</td>\n",
              "    </tr>\n",
              "    <tr>\n",
              "      <th>189694</th>\n",
              "      <td>-0.365450</td>\n",
              "      <td>0.222852</td>\n",
              "    </tr>\n",
              "    <tr>\n",
              "      <th>189695</th>\n",
              "      <td>-0.285205</td>\n",
              "      <td>-0.367017</td>\n",
              "    </tr>\n",
              "    <tr>\n",
              "      <th>189696</th>\n",
              "      <td>-0.253498</td>\n",
              "      <td>0.240691</td>\n",
              "    </tr>\n",
              "    <tr>\n",
              "      <th>189697</th>\n",
              "      <td>0.134709</td>\n",
              "      <td>0.405898</td>\n",
              "    </tr>\n",
              "    <tr>\n",
              "      <th>189698</th>\n",
              "      <td>0.521411</td>\n",
              "      <td>-0.380856</td>\n",
              "    </tr>\n",
              "  </tbody>\n",
              "</table>\n",
              "<p>189699 rows × 2 columns</p>\n",
              "</div>"
            ],
            "text/plain": [
              "               x         y\n",
              "0      -0.274482 -0.200329\n",
              "1       0.513402  0.010798\n",
              "2       0.037245 -0.320901\n",
              "3      -0.353133  0.055236\n",
              "4      -0.335913  0.233518\n",
              "...          ...       ...\n",
              "189694 -0.365450  0.222852\n",
              "189695 -0.285205 -0.367017\n",
              "189696 -0.253498  0.240691\n",
              "189697  0.134709  0.405898\n",
              "189698  0.521411 -0.380856\n",
              "\n",
              "[189699 rows x 2 columns]"
            ]
          },
          "metadata": {},
          "execution_count": 20
        }
      ]
    },
    {
      "cell_type": "code",
      "metadata": {
        "colab": {
          "base_uri": "https://localhost:8080/"
        },
        "id": "cy6wY-TOx_MR",
        "outputId": "0ff35e92-68ba-4437-97ad-4be5afc75002"
      },
      "source": [
        "arr = MinMaxScaler(feature_range=(0,10)).fit_transform(datasetbaru)\n",
        "print(arr)"
      ],
      "execution_count": null,
      "outputs": [
        {
          "output_type": "stream",
          "name": "stdout",
          "text": [
            "[[1.55789241 3.01175782]\n",
            " [6.93978333 5.08874955]\n",
            " [3.68724061 1.82561801]\n",
            " ...\n",
            " [1.70122935 7.35034366]\n",
            " [4.3529984  8.97558765]\n",
            " [6.99449621 1.23580055]]\n"
          ]
        }
      ]
    },
    {
      "cell_type": "code",
      "metadata": {
        "colab": {
          "base_uri": "https://localhost:8080/",
          "height": 333
        },
        "id": "ta6fiEqzyBoJ",
        "outputId": "1eae73ab-5bc1-4ade-ce82-568b094af885"
      },
      "source": [
        "x=arr[:,0]\n",
        "y=arr[:,1]\n",
        "sns.scatterplot(x, y, s=5, color='gray')"
      ],
      "execution_count": null,
      "outputs": [
        {
          "output_type": "stream",
          "name": "stderr",
          "text": [
            "/usr/local/lib/python3.7/dist-packages/seaborn/_decorators.py:43: FutureWarning: Pass the following variables as keyword args: x, y. From version 0.12, the only valid positional argument will be `data`, and passing other arguments without an explicit keyword will result in an error or misinterpretation.\n",
            "  FutureWarning\n"
          ]
        },
        {
          "output_type": "execute_result",
          "data": {
            "text/plain": [
              "<matplotlib.axes._subplots.AxesSubplot at 0x7f85d69fd390>"
            ]
          },
          "metadata": {},
          "execution_count": 22
        },
        {
          "output_type": "display_data",
          "data": {
            "image/png": "[encoded data removed]",
            "text/plain": [
              "<Figure size 432x288 with 1 Axes>"
            ]
          },
          "metadata": {
            "needs_background": "light"
          }
        }
      ]
    },
    {
      "cell_type": "markdown",
      "metadata": {
        "id": "NLF4Ir5d1Lqv"
      },
      "source": [
        "#PERMODELAN / CLUSTERING\n",
        "\n",
        "> Pemrosesan data utama dalam Clustering setelah sebelumnya sudah melewati tahap Preprosesing data \n",
        "\n"
      ]
    },
    {
      "cell_type": "markdown",
      "metadata": {
        "id": "Bv6wCcRp1jWA"
      },
      "source": [
        "##Find jarak\n",
        "\n",
        "Mencari jarak untuk centroid menggunakan metode Euclidian Distance"
      ]
    },
    {
      "cell_type": "code",
      "metadata": {
        "id": "T-U7Lkf42AJn"
      },
      "source": [
        "def Euclidian(a, b, ax=1):\n",
        "    sub = a-b\n",
        "    hasil = np.linalg.norm(sub, axis=ax)\n",
        "    return hasil"
      ],
      "execution_count": null,
      "outputs": []
    },
    {
      "cell_type": "markdown",
      "metadata": {
        "id": "NWq4OPupoNa8"
      },
      "source": [
        "##Find centroid\n",
        "\n",
        "Mencari centroid untuk menampung data kendaraan dengan merandom nilai minimum dan maksimum yang terdapat pada array"
      ]
    },
    {
      "cell_type": "code",
      "metadata": {
        "colab": {
          "base_uri": "https://localhost:8080/"
        },
        "id": "pQ5GzvBWobsr",
        "outputId": "170206b6-8558-4e5d-e9c4-77601ae992e6"
      },
      "source": [
        "k = 5\n",
        "min = np.min(arr)\n",
        "max = np.max(arr)\n",
        "\n",
        "centroid1 = np.random.randint(min, max, size=k)\n",
        "centroid2 = np.random.randint(min, max, size=k)\n",
        "centroid = np.array(list(zip(centroid1, centroid2)))\n",
        "print(centroid)"
      ],
      "execution_count": null,
      "outputs": [
        {
          "output_type": "stream",
          "name": "stdout",
          "text": [
            "[[7 4]\n",
            " [8 7]\n",
            " [2 5]\n",
            " [9 9]\n",
            " [2 6]]\n"
          ]
        }
      ]
    },
    {
      "cell_type": "markdown",
      "metadata": {
        "id": "RrNAf-LpoyKT"
      },
      "source": [
        "##K-Means\n",
        "\n",
        "Melakukan centroid dengan menggunakan metode K-Means, membuat temparrcl untuk menampung hasil cluster dan temparrcen untuk menampung nilai centroid sebelumnya lalu array titik untuk menapung pengelompokan"
      ]
    },
    {
      "cell_type": "code",
      "metadata": {
        "colab": {
          "base_uri": "https://localhost:8080/"
        },
        "id": "oMzY0a_3pMqC",
        "outputId": "247858e5-550b-4f5c-fcdf-9c88cb75fca1"
      },
      "source": [
        "temparrcl = np.zeros(len(arr))\n",
        "temparrcen = np.zeros(centroid.shape)\n",
        "titik = []\n",
        "temp = []\n",
        "\n",
        "stop = Euclidian(centroid, temparrcen, None)\n",
        "print(stop)\n",
        "\n",
        "while stop != 0:\n",
        "    for i in range(len(arr)):\n",
        "        jarak = Euclidian(arr[i], centroid) \n",
        "        cluster = np.argmin(jarak) \n",
        "        temparrcl[i] = cluster \n",
        "    temparrcen = deepcopy(centroid) \n",
        "\n",
        "    for i in range(k): \n",
        "        titik = [arr[j] for j in range(len(arr)) if temparrcl[j] == i] \n",
        "        centroid[i] = np.mean(titik, axis=0) \n",
        "        temp.append(temparrcl)\n",
        "\n",
        "    stop = Euclidian(centroid, temparrcen, None)\n",
        "    \n",
        "    print(stop)"
      ],
      "execution_count": null,
      "outputs": [
        {
          "output_type": "stream",
          "name": "stdout",
          "text": [
            "20.223748416156685\n",
            "4.69041575982343\n",
            "2.0\n",
            "1.0\n",
            "1.4142135623730951\n",
            "0.0\n"
          ]
        }
      ]
    },
    {
      "cell_type": "markdown",
      "metadata": {
        "id": "_nLD6HXEqB_6"
      },
      "source": [
        "##K-Means visualisasi"
      ]
    },
    {
      "cell_type": "code",
      "metadata": {
        "colab": {
          "base_uri": "https://localhost:8080/",
          "height": 297
        },
        "id": "2NMY4v60qHvi",
        "outputId": "41907309-41cb-4c72-b230-464db0ce444b"
      },
      "source": [
        "fig, ax = plt.subplots()\n",
        "color = ['red', 'forestgreen', 'navy', 'gold', 'violet', 'turquoise', 'grey']\n",
        "\n",
        "for i in range(k):\n",
        "        titik = np.array([arr[j] for j in range(len(arr)) if temparrcl[j] == i])\n",
        "        x = titik[:, 0]\n",
        "        y = titik[:, 1]\n",
        "        ax.scatter(x, y, s=5, c=color[i])\n",
        "\n",
        "x_clus = centroid[:, 0]\n",
        "y_clus = centroid[:, 1]        \n",
        "ax.scatter(x_clus, y_clus, marker='H', s=100, color='cyan')\n",
        "plt.title(\"Clustering Data\")\n",
        "plt.show"
      ],
      "execution_count": null,
      "outputs": [
        {
          "output_type": "execute_result",
          "data": {
            "text/plain": [
              "<function matplotlib.pyplot.show>"
            ]
          },
          "metadata": {},
          "execution_count": 26
        },
        {
          "output_type": "display_data",
          "data": {
            "image/png": "[encoded data removed]",
            "text/plain": [
              "<Figure size 432x288 with 1 Axes>"
            ]
          },
          "metadata": {
            "needs_background": "light"
          }
        }
      ]
    },
    {
      "cell_type": "markdown",
      "metadata": {
        "id": "5hTGDGnlqjZy"
      },
      "source": [
        "Memastikan bahwa nilai centroid berubah"
      ]
    },
    {
      "cell_type": "code",
      "metadata": {
        "colab": {
          "base_uri": "https://localhost:8080/"
        },
        "id": "EBE3jOwdqoRC",
        "outputId": "9d7991ac-caa2-43ab-a9ee-1dbbf6c64634"
      },
      "source": [
        "print(centroid)"
      ],
      "execution_count": null,
      "outputs": [
        {
          "output_type": "stream",
          "name": "stdout",
          "text": [
            "[[6 1]\n",
            " [6 4]\n",
            " [1 2]\n",
            " [6 8]\n",
            " [1 7]]\n"
          ]
        }
      ]
    },
    {
      "cell_type": "markdown",
      "metadata": {
        "id": "wf3OChTmrC6b"
      },
      "source": [
        "#EVALUASI\n",
        "\n",
        "> Evaluasi menggunakan metode Elbow Menthod untung meninjau atau mengomparasi dari clustering sebelummnya sehingga mendapatkan hasil yang maksimum dimungkinkan\n",
        "\n"
      ]
    },
    {
      "cell_type": "markdown",
      "metadata": {
        "id": "U6x8rBqUtnDJ"
      },
      "source": [
        "##Elbow menthod\n",
        "\n",
        "metode untuk meninjau nilai k yang optimal dari hasil sebelumnnya"
      ]
    },
    {
      "cell_type": "code",
      "metadata": {
        "colab": {
          "base_uri": "https://localhost:8080/",
          "height": 408
        },
        "id": "Gs6HbCaIt9wJ",
        "outputId": "2b1e8759-16b2-4d7f-94de-8d16a2de8448"
      },
      "source": [
        "datasetbaru"
      ],
      "execution_count": null,
      "outputs": [
        {
          "output_type": "execute_result",
          "data": {
            "text/html": [
              "<div>\n",
              "<style scoped>\n",
              "    .dataframe tbody tr th:only-of-type {\n",
              "        vertical-align: middle;\n",
              "    }\n",
              "\n",
              "    .dataframe tbody tr th {\n",
              "        vertical-align: top;\n",
              "    }\n",
              "\n",
              "    .dataframe thead th {\n",
              "        text-align: right;\n",
              "    }\n",
              "</style>\n",
              "<table border=\"1\" class=\"dataframe\">\n",
              "  <thead>\n",
              "    <tr style=\"text-align: right;\">\n",
              "      <th></th>\n",
              "      <th>x</th>\n",
              "      <th>y</th>\n",
              "    </tr>\n",
              "  </thead>\n",
              "  <tbody>\n",
              "    <tr>\n",
              "      <th>0</th>\n",
              "      <td>-0.274482</td>\n",
              "      <td>-0.200329</td>\n",
              "    </tr>\n",
              "    <tr>\n",
              "      <th>1</th>\n",
              "      <td>0.513402</td>\n",
              "      <td>0.010798</td>\n",
              "    </tr>\n",
              "    <tr>\n",
              "      <th>2</th>\n",
              "      <td>0.037245</td>\n",
              "      <td>-0.320901</td>\n",
              "    </tr>\n",
              "    <tr>\n",
              "      <th>3</th>\n",
              "      <td>-0.353133</td>\n",
              "      <td>0.055236</td>\n",
              "    </tr>\n",
              "    <tr>\n",
              "      <th>4</th>\n",
              "      <td>-0.335913</td>\n",
              "      <td>0.233518</td>\n",
              "    </tr>\n",
              "    <tr>\n",
              "      <th>...</th>\n",
              "      <td>...</td>\n",
              "      <td>...</td>\n",
              "    </tr>\n",
              "    <tr>\n",
              "      <th>189694</th>\n",
              "      <td>-0.365450</td>\n",
              "      <td>0.222852</td>\n",
              "    </tr>\n",
              "    <tr>\n",
              "      <th>189695</th>\n",
              "      <td>-0.285205</td>\n",
              "      <td>-0.367017</td>\n",
              "    </tr>\n",
              "    <tr>\n",
              "      <th>189696</th>\n",
              "      <td>-0.253498</td>\n",
              "      <td>0.240691</td>\n",
              "    </tr>\n",
              "    <tr>\n",
              "      <th>189697</th>\n",
              "      <td>0.134709</td>\n",
              "      <td>0.405898</td>\n",
              "    </tr>\n",
              "    <tr>\n",
              "      <th>189698</th>\n",
              "      <td>0.521411</td>\n",
              "      <td>-0.380856</td>\n",
              "    </tr>\n",
              "  </tbody>\n",
              "</table>\n",
              "<p>189699 rows × 2 columns</p>\n",
              "</div>"
            ],
            "text/plain": [
              "               x         y\n",
              "0      -0.274482 -0.200329\n",
              "1       0.513402  0.010798\n",
              "2       0.037245 -0.320901\n",
              "3      -0.353133  0.055236\n",
              "4      -0.335913  0.233518\n",
              "...          ...       ...\n",
              "189694 -0.365450  0.222852\n",
              "189695 -0.285205 -0.367017\n",
              "189696 -0.253498  0.240691\n",
              "189697  0.134709  0.405898\n",
              "189698  0.521411 -0.380856\n",
              "\n",
              "[189699 rows x 2 columns]"
            ]
          },
          "metadata": {},
          "execution_count": 28
        }
      ]
    },
    {
      "cell_type": "code",
      "metadata": {
        "colab": {
          "base_uri": "https://localhost:8080/",
          "height": 565
        },
        "id": "7hmFZjdEtytR",
        "outputId": "b98df3b6-7311-4bdc-e5e1-6d01ad2d6954"
      },
      "source": [
        "wcss=[]\n",
        "\n",
        "k = range(1,10)\n",
        "\n",
        "for i in k:\n",
        "    kmeans = KMeans(n_clusters=i, init='k-means++', random_state=50)\n",
        "    kmeans.fit(datasetbaru)\n",
        "    wcss.append(kmeans.inertia_)\n",
        "\n",
        "plt.figure(figsize=(12,8))\n",
        "sns.lineplot(range(1,10), wcss, markers='o', color='blue')\n",
        "plt.title('Elbow Method')\n",
        "plt.xlabel('Cluster')\n",
        "plt.ylabel('WCSS')\n",
        "plt.show()"
      ],
      "execution_count": null,
      "outputs": [
        {
          "output_type": "stream",
          "name": "stderr",
          "text": [
            "/usr/local/lib/python3.7/dist-packages/seaborn/_decorators.py:43: FutureWarning: Pass the following variables as keyword args: x, y. From version 0.12, the only valid positional argument will be `data`, and passing other arguments without an explicit keyword will result in an error or misinterpretation.\n",
            "  FutureWarning\n"
          ]
        },
        {
          "output_type": "display_data",
          "data": {
            "image/png": "[encoded data removed]",
            "text/plain": [
              "<Figure size 864x576 with 1 Axes>"
            ]
          },
          "metadata": {
            "needs_background": "light"
          }
        }
      ]
    }
  ]
}